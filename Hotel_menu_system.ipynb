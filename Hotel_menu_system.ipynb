{
 "cells": [
  {
   "cell_type": "code",
   "execution_count": 1,
   "id": "eee82ebb",
   "metadata": {},
   "outputs": [
    {
     "name": "stdout",
     "output_type": "stream",
     "text": [
      "welcome to the Mr.Nandewal restaurant\n",
      "Pizza:Rs40\n",
      "Pasta: Rs50\n",
      "Burger: Rs45\n",
      "Springroll: Rs70\n",
      "Coldcoffee: Rs30\n",
      "Shake: Rs20\n",
      "enter the name of item u want to order :-Burger\n",
      "your itemBurger has been added to your order\n",
      "Do you want to order another item ? (Yes/No)Yes\n",
      "enter the name of item u want to order :-Pasta\n",
      "your item(item_2) has been added to order\n",
      "The total amount of items to pay is 95\n"
     ]
    }
   ],
   "source": [
    "# Define the menu of restaurant\n",
    "\n",
    "menu={\n",
    "    \"Pizza\":40,\n",
    "    \"Pasta\":50,\n",
    "    \"Burger\":45,\n",
    "    \"Springroll\":70,\n",
    "    \"Coldcoffee\":30,\n",
    "    \"Shake\":20\n",
    "    \n",
    "    }\n",
    "print(\"welcome to the Mr.Nandewal restaurant\")\n",
    "print(\"Pizza:Rs40\\nPasta: Rs50\\nBurger: Rs45\\nSpringroll: Rs70\\nColdcoffee: Rs30\\nShake: Rs20\")\n",
    "\n",
    "\n",
    "Order_Total = 0\n",
    "\n",
    "item_1=input(\"enter the name of item u want to order :-\")\n",
    "if item_1 in menu:\n",
    "    Order_Total +=menu[item_1]\n",
    "    print(f\"your item{item_1} has been added to your order\")\n",
    "    \n",
    "else:\n",
    "    print(f\"Order item{item_1} is not availabe yet !\")\n",
    "    \n",
    "another_order = input(\"Do you want to order another item ? (Yes/No)\")\n",
    "if another_order ==\"Yes\":\n",
    "    item_2 = input(\"enter the name of item u want to order :-\")\n",
    "    if item_2 in menu :\n",
    "        Order_Total +=menu[item_2]\n",
    "        print(f\"your item(item_2) has been added to order\")\n",
    "    else:\n",
    "        print(f\"Order  item {item_2} is not avaialable?\")\n",
    "print(f\"The total amount of items to pay is {Order_Total}\")"
   ]
  },
  {
   "cell_type": "code",
   "execution_count": null,
   "id": "485b987f",
   "metadata": {},
   "outputs": [],
   "source": []
  }
 ],
 "metadata": {
  "kernelspec": {
   "display_name": "Python 3 (ipykernel)",
   "language": "python",
   "name": "python3"
  },
  "language_info": {
   "codemirror_mode": {
    "name": "ipython",
    "version": 3
   },
   "file_extension": ".py",
   "mimetype": "text/x-python",
   "name": "python",
   "nbconvert_exporter": "python",
   "pygments_lexer": "ipython3",
   "version": "3.11.5"
  }
 },
 "nbformat": 4,
 "nbformat_minor": 5
}
